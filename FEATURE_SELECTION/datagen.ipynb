{
 "cells": [
  {
   "cell_type": "code",
   "execution_count": 1,
   "metadata": {},
   "outputs": [],
   "source": [
    "import pandas as pd\n",
    "import glob\n",
    "from sklearn.model_selection import train_test_split\n",
    "from tqdm import tqdm\n",
    "import os"
   ]
  },
  {
   "cell_type": "code",
   "execution_count": 2,
   "metadata": {},
   "outputs": [],
   "source": [
    "features = ['Dst Port', 'Protocol', 'Flow Duration', 'Fwd Pkt Len Max',\n",
    "'Fwd Pkt Len Min', 'Fwd Pkt Len Mean', 'Bwd Pkt Len Max',\n",
    "'Bwd Pkt Len Min', 'Bwd Pkt Len Mean', 'Bwd IAT Tot',\n",
    "'Bwd IAT Mean', 'Bwd IAT Std', 'Fwd PSH Flags', 'RST Flag Cnt',\n",
    "'PSH Flag Cnt', 'ACK Flag Cnt', 'Down/Up Ratio', 'Label']"
   ]
  },
  {
   "cell_type": "code",
   "execution_count": 3,
   "metadata": {},
   "outputs": [],
   "source": [
    "dir=\"../DATA\""
   ]
  },
  {
   "cell_type": "code",
   "execution_count": 4,
   "metadata": {},
   "outputs": [],
   "source": [
    "if not os.path.exists(dir):\n",
    "    raise FileNotFoundError(f\"Directory not found: {dir}\")"
   ]
  },
  {
   "cell_type": "code",
   "execution_count": 5,
   "metadata": {},
   "outputs": [],
   "source": [
    "import glob\n",
    "path = glob.glob(os.path.join(dir, \"*.csv\"))"
   ]
  },
  {
   "cell_type": "code",
   "execution_count": 6,
   "metadata": {},
   "outputs": [],
   "source": [
    "path.remove(\"../DATA/IDS_Merged.csv\")"
   ]
  },
  {
   "cell_type": "code",
   "execution_count": 7,
   "metadata": {},
   "outputs": [],
   "source": [
    "chunks=[]"
   ]
  },
  {
   "cell_type": "code",
   "execution_count": 8,
   "metadata": {},
   "outputs": [
    {
     "name": "stderr",
     "output_type": "stream",
     "text": [
      "Processing Files:   0%|          | 0/10 [00:00<?, ?file/s]"
     ]
    },
    {
     "name": "stdout",
     "output_type": "stream",
     "text": [
      "\n",
      "Processing file: ../DATA/02-14-2018.csv\n"
     ]
    },
    {
     "name": "stderr",
     "output_type": "stream",
     "text": [
      "Chunks (../DATA/02-14-2018.csv): 21chunk [00:02,  9.87chunk/s]\n",
      "Processing Files:  10%|█         | 1/10 [00:02<00:19,  2.13s/file]"
     ]
    },
    {
     "name": "stdout",
     "output_type": "stream",
     "text": [
      "\n",
      "Processing file: ../DATA/02-20-2018.csv\n"
     ]
    },
    {
     "name": "stderr",
     "output_type": "stream",
     "text": [
      "Chunks (../DATA/02-20-2018.csv): 159chunk [00:33,  4.79chunk/s]\n",
      "Processing Files:  20%|██        | 2/10 [00:35<02:43, 20.40s/file]"
     ]
    },
    {
     "name": "stdout",
     "output_type": "stream",
     "text": [
      "\n",
      "Processing file: ../DATA/02-23-2018.csv\n"
     ]
    },
    {
     "name": "stderr",
     "output_type": "stream",
     "text": [
      "Chunks (../DATA/02-23-2018.csv): 21chunk [00:03,  5.94chunk/s]\n",
      "Processing Files:  30%|███       | 3/10 [00:38<01:28, 12.70s/file]"
     ]
    },
    {
     "name": "stdout",
     "output_type": "stream",
     "text": [
      "\n",
      "Processing file: ../DATA/02-21-2018.csv\n"
     ]
    },
    {
     "name": "stderr",
     "output_type": "stream",
     "text": [
      "Chunks (../DATA/02-21-2018.csv): 21chunk [00:02,  7.00chunk/s]\n",
      "Processing Files:  40%|████      | 4/10 [00:41<00:53,  8.88s/file]"
     ]
    },
    {
     "name": "stdout",
     "output_type": "stream",
     "text": [
      "\n",
      "Processing file: ../DATA/02-28-2018.csv\n"
     ]
    },
    {
     "name": "stderr",
     "output_type": "stream",
     "text": [
      "/home/zeus/miniconda3/envs/cloudspace/lib/python3.10/site-packages/tqdm/std.py:1181: DtypeWarning: Columns (0,1,3,8,9,10,12,13,14,27,28,29,32,47,48,49,53) have mixed types. Specify dtype option on import or set low_memory=False.\n",
      "  for obj in iterable:\n",
      "/home/zeus/miniconda3/envs/cloudspace/lib/python3.10/site-packages/tqdm/std.py:1181: DtypeWarning: Columns (0,1,3,8,9,10,12,13,14,27,28,29,32,47,48,49,53) have mixed types. Specify dtype option on import or set low_memory=False.\n",
      "  for obj in iterable:\n",
      "/home/zeus/miniconda3/envs/cloudspace/lib/python3.10/site-packages/tqdm/std.py:1181: DtypeWarning: Columns (0,1,3,8,9,10,12,13,14,27,28,29,32,47,48,49,53) have mixed types. Specify dtype option on import or set low_memory=False.\n",
      "  for obj in iterable:\n",
      "/home/zeus/miniconda3/envs/cloudspace/lib/python3.10/site-packages/tqdm/std.py:1181: DtypeWarning: Columns (0,1,3,8,9,10,12,13,14,27,28,29,32,47,48,49,53) have mixed types. Specify dtype option on import or set low_memory=False.\n",
      "  for obj in iterable:\n",
      "/home/zeus/miniconda3/envs/cloudspace/lib/python3.10/site-packages/tqdm/std.py:1181: DtypeWarning: Columns (0,1,3,8,9,10,12,13,14,27,28,29,32,47,48,49,53) have mixed types. Specify dtype option on import or set low_memory=False.\n",
      "  for obj in iterable:\n",
      "/home/zeus/miniconda3/envs/cloudspace/lib/python3.10/site-packages/tqdm/std.py:1181: DtypeWarning: Columns (0,1,3,8,9,10,12,13,14,27,28,29,32,47,48,49,53) have mixed types. Specify dtype option on import or set low_memory=False.\n",
      "  for obj in iterable:\n",
      "/home/zeus/miniconda3/envs/cloudspace/lib/python3.10/site-packages/tqdm/std.py:1181: DtypeWarning: Columns (0,1,3,8,9,10,12,13,14,27,28,29,32,47,48,49,53) have mixed types. Specify dtype option on import or set low_memory=False.\n",
      "  for obj in iterable:\n",
      "/home/zeus/miniconda3/envs/cloudspace/lib/python3.10/site-packages/tqdm/std.py:1181: DtypeWarning: Columns (0,1,3,8,9,10,12,13,14,27,28,29,32,47,48,49,53) have mixed types. Specify dtype option on import or set low_memory=False.\n",
      "  for obj in iterable:\n",
      "/home/zeus/miniconda3/envs/cloudspace/lib/python3.10/site-packages/tqdm/std.py:1181: DtypeWarning: Columns (0,1,3,8,9,10,12,13,14,27,28,29,32,47,48,49,53) have mixed types. Specify dtype option on import or set low_memory=False.\n",
      "  for obj in iterable:\n",
      "/home/zeus/miniconda3/envs/cloudspace/lib/python3.10/site-packages/tqdm/std.py:1181: DtypeWarning: Columns (0,1,3,8,9,10,12,13,14,27,28,29,32,47,48,49,53) have mixed types. Specify dtype option on import or set low_memory=False.\n",
      "  for obj in iterable:\n",
      "/home/zeus/miniconda3/envs/cloudspace/lib/python3.10/site-packages/tqdm/std.py:1181: DtypeWarning: Columns (0,1,3,8,9,10,12,13,14,27,28,29,32,47,48,49,53) have mixed types. Specify dtype option on import or set low_memory=False.\n",
      "  for obj in iterable:\n",
      "/home/zeus/miniconda3/envs/cloudspace/lib/python3.10/site-packages/tqdm/std.py:1181: DtypeWarning: Columns (0,1,3,8,9,10,12,13,14,27,28,29,32,47,48,49,53) have mixed types. Specify dtype option on import or set low_memory=False.\n",
      "  for obj in iterable:\n",
      "/home/zeus/miniconda3/envs/cloudspace/lib/python3.10/site-packages/tqdm/std.py:1181: DtypeWarning: Columns (0,1,3,8,9,10,12,13,14,27,28,29,32,47,48,49,53) have mixed types. Specify dtype option on import or set low_memory=False.\n",
      "  for obj in iterable:\n",
      "Chunks (../DATA/02-28-2018.csv): 13chunk [00:02,  5.59chunk/s]\n",
      "Processing Files:  50%|█████     | 5/10 [00:44<00:32,  6.52s/file]"
     ]
    },
    {
     "name": "stdout",
     "output_type": "stream",
     "text": [
      "\n",
      "Processing file: ../DATA/03-02-2018.csv\n"
     ]
    },
    {
     "name": "stderr",
     "output_type": "stream",
     "text": [
      "Chunks (../DATA/03-02-2018.csv): 21chunk [00:03,  5.96chunk/s]\n",
      "Processing Files:  60%|██████    | 6/10 [00:47<00:22,  5.50s/file]"
     ]
    },
    {
     "name": "stdout",
     "output_type": "stream",
     "text": [
      "\n",
      "Processing file: ../DATA/02-15-2018.csv\n"
     ]
    },
    {
     "name": "stderr",
     "output_type": "stream",
     "text": [
      "Chunks (../DATA/02-15-2018.csv): 21chunk [00:03,  5.94chunk/s]\n",
      "Processing Files:  70%|███████   | 7/10 [00:51<00:14,  4.86s/file]"
     ]
    },
    {
     "name": "stdout",
     "output_type": "stream",
     "text": [
      "\n",
      "Processing file: ../DATA/03-01-2018.csv\n"
     ]
    },
    {
     "name": "stderr",
     "output_type": "stream",
     "text": [
      "/home/zeus/miniconda3/envs/cloudspace/lib/python3.10/site-packages/tqdm/std.py:1181: DtypeWarning: Columns (0,1,3,8,9,10,12,13,14,27,28,29,32,47,48,49,53) have mixed types. Specify dtype option on import or set low_memory=False.\n",
      "  for obj in iterable:\n",
      "/home/zeus/miniconda3/envs/cloudspace/lib/python3.10/site-packages/tqdm/std.py:1181: DtypeWarning: Columns (0,1,3,8,9,10,12,13,14,27,28,29,32,47,48,49,53) have mixed types. Specify dtype option on import or set low_memory=False.\n",
      "  for obj in iterable:\n",
      "/home/zeus/miniconda3/envs/cloudspace/lib/python3.10/site-packages/tqdm/std.py:1181: DtypeWarning: Columns (0,1,3,8,9,10,12,13,14,27,28,29,32,47,48,49,53) have mixed types. Specify dtype option on import or set low_memory=False.\n",
      "  for obj in iterable:\n",
      "Chunks (../DATA/03-01-2018.csv): 7chunk [00:01,  6.49chunk/s]\n",
      "Processing Files:  80%|████████  | 8/10 [00:52<00:07,  3.66s/file]"
     ]
    },
    {
     "name": "stdout",
     "output_type": "stream",
     "text": [
      "\n",
      "Processing file: ../DATA/02-16-2018.csv\n"
     ]
    },
    {
     "name": "stderr",
     "output_type": "stream",
     "text": [
      "/home/zeus/miniconda3/envs/cloudspace/lib/python3.10/site-packages/tqdm/std.py:1181: DtypeWarning: Columns (0,1,3,8,9,10,12,13,14,27,28,29,32,47,48,49,53) have mixed types. Specify dtype option on import or set low_memory=False.\n",
      "  for obj in iterable:\n",
      "Chunks (../DATA/02-16-2018.csv): 21chunk [00:02,  7.02chunk/s]\n",
      "Processing Files:  90%|█████████ | 9/10 [00:55<00:03,  3.45s/file]"
     ]
    },
    {
     "name": "stdout",
     "output_type": "stream",
     "text": [
      "\n",
      "Processing file: ../DATA/02-22-2018.csv\n"
     ]
    },
    {
     "name": "stderr",
     "output_type": "stream",
     "text": [
      "Chunks (../DATA/02-22-2018.csv): 21chunk [00:03,  5.93chunk/s]\n",
      "Processing Files: 100%|██████████| 10/10 [00:58<00:00,  5.89s/file]\n"
     ]
    }
   ],
   "source": [
    "for i in tqdm(path, desc=\"Processing Files\", unit=\"file\"):\n",
    "    print(f\"\\nProcessing file: {i}\")\n",
    "    for chunk in tqdm(pd.read_csv(i, usecols=features, chunksize=50000), desc=f\"Chunks ({i})\", unit=\"chunk\"):\n",
    "        chunks.append(chunk)"
   ]
  },
  {
   "cell_type": "code",
   "execution_count": 9,
   "metadata": {},
   "outputs": [
    {
     "name": "stdout",
     "output_type": "stream",
     "text": [
      "\n",
      "Total number of rows after do thsi operation: 16233002\n"
     ]
    }
   ],
   "source": [
    "df = pd.concat(chunks, ignore_index=True)\n",
    "print(f\"\\nTotal number of rows after do thsi operation: {df.shape[0]}\")"
   ]
  },
  {
   "cell_type": "code",
   "execution_count": 10,
   "metadata": {},
   "outputs": [
    {
     "data": {
      "text/plain": [
       "0"
      ]
     },
     "execution_count": 10,
     "metadata": {},
     "output_type": "execute_result"
    }
   ],
   "source": [
    "del chunks  \n",
    "import gc        \n",
    "gc.collect()  "
   ]
  },
  {
   "cell_type": "code",
   "execution_count": null,
   "metadata": {},
   "outputs": [],
   "source": [
    "train, test = train_test_split(df, test_size=0.25, random_state=42, stratify=df['Label'])"
   ]
  },
  {
   "cell_type": "code",
   "execution_count": 13,
   "metadata": {},
   "outputs": [
    {
     "name": "stdout",
     "output_type": "stream",
     "text": [
      "Train and Test datasets saved successfully!\n"
     ]
    }
   ],
   "source": [
    "train.to_csv(\"../DATA/train.csv\", index=False)\n",
    "test.to_csv(\"../DATA/test.csv\", index=False)\n",
    "print(\"Train and Test datasets saved successfully!\")"
   ]
  }
 ],
 "metadata": {
  "language_info": {
   "name": "python"
  }
 },
 "nbformat": 4,
 "nbformat_minor": 2
}
