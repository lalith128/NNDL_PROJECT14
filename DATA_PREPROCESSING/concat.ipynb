{
 "cells": [
  {
   "cell_type": "code",
   "execution_count": 1,
   "metadata": {},
   "outputs": [
    {
     "name": "stdout",
     "output_type": "stream",
     "text": [
      "Downloading from https://www.kaggle.com/api/v1/datasets/download/solarmainframe/ids-intrusion-csv?dataset_version_number=1...\n"
     ]
    },
    {
     "name": "stderr",
     "output_type": "stream",
     "text": [
      "100%|██████████| 1.60G/1.60G [00:05<00:00, 309MB/s]"
     ]
    },
    {
     "name": "stdout",
     "output_type": "stream",
     "text": [
      "Extracting files...\n"
     ]
    },
    {
     "name": "stderr",
     "output_type": "stream",
     "text": [
      "\n"
     ]
    },
    {
     "name": "stdout",
     "output_type": "stream",
     "text": [
      "Path to dataset files: /teamspace/studios/this_studio/.cache/kagglehub/datasets/solarmainframe/ids-intrusion-csv/versions/1\n"
     ]
    }
   ],
   "source": [
    "import kagglehub\n",
    "path = kagglehub.dataset_download(\"solarmainframe/ids-intrusion-csv\")\n",
    "print(\"Path to dataset files:\", path)"
   ]
  },
  {
   "cell_type": "code",
   "execution_count": 2,
   "metadata": {},
   "outputs": [],
   "source": [
    "!mv /teamspace/studios/this_studio/.cache/kagglehub/datasets/solarmainframe/ids-intrusion-csv/versions/1 /teamspace/studios/this_studio/TEAM14_NNDL"
   ]
  },
  {
   "cell_type": "code",
   "execution_count": 3,
   "metadata": {},
   "outputs": [],
   "source": [
    "import pandas as pd\n",
    "import os"
   ]
  },
  {
   "cell_type": "code",
   "execution_count": 4,
   "metadata": {},
   "outputs": [],
   "source": [
    "path=\"../DATA\""
   ]
  },
  {
   "cell_type": "code",
   "execution_count": 6,
   "metadata": {},
   "outputs": [],
   "source": [
    "files=[f for f in os.listdir(path) if f.endswith(\".csv\")]"
   ]
  },
  {
   "cell_type": "code",
   "execution_count": 7,
   "metadata": {},
   "outputs": [
    {
     "name": "stdout",
     "output_type": "stream",
     "text": [
      "Loaded 02-23-2018.csv\n",
      "Loaded 03-02-2018.csv\n",
      "Loaded 02-16-2018.csv\n",
      "Loaded 02-15-2018.csv\n",
      "Loaded 03-01-2018.csv\n",
      "Loaded 02-21-2018.csv\n",
      "Loaded 02-28-2018.csv\n",
      "Loaded 02-22-2018.csv\n",
      "Loaded 02-20-2018.csv\n",
      "Loaded 02-14-2018.csv\n"
     ]
    }
   ],
   "source": [
    "arr = []\n",
    "for i in files:\n",
    "    p = os.path.join(path, i)\n",
    "    # Add low_memory=False to handle mixed data types\n",
    "    temp = pd.read_csv(p, low_memory=False)\n",
    "    arr.append(temp)\n",
    "    print(f\"Loaded {i}\")\n",
    "    # Optional: Force garbage collection to free memory\n",
    "    import gc\n",
    "    gc.collect()"
   ]
  },
  {
   "cell_type": "code",
   "execution_count": 8,
   "metadata": {},
   "outputs": [
    {
     "name": "stdout",
     "output_type": "stream",
     "text": [
      "Merged file 2 of 10\n",
      "Merged file 3 of 10\n",
      "Merged file 4 of 10\n",
      "Merged file 5 of 10\n",
      "Merged file 6 of 10\n",
      "Merged file 7 of 10\n",
      "Merged file 8 of 10\n",
      "Merged file 9 of 10\n"
     ]
    },
    {
     "name": "stdout",
     "output_type": "stream",
     "text": [
      "Merged file 10 of 10\n",
      "Successfully merged 10 files with 16233002 total rows\n"
     ]
    }
   ],
   "source": [
    "df = arr[0]\n",
    "for i in range(1, len(arr)):\n",
    "    df = pd.concat([df, arr[i]], ignore_index=True)\n",
    "    arr[i] = None\n",
    "    print(f\"Merged file {i+1} of {len(arr)}\")\n",
    "    import gc\n",
    "    gc.collect() \n",
    "print(f\"Successfully merged {len(arr)} files with {len(df)} total rows\")"
   ]
  },
  {
   "cell_type": "code",
   "execution_count": 9,
   "metadata": {},
   "outputs": [
    {
     "name": "stdout",
     "output_type": "stream",
     "text": [
      "Merged dataset saved as ../DATA/IDS_Merged.csv\n"
     ]
    }
   ],
   "source": [
    "output=\"../DATA/IDS_Merged.csv\"\n",
    "df.to_csv(output, index=False)\n",
    "print(f\"Merged dataset saved as {output}\")"
   ]
  }
 ],
 "metadata": {
  "language_info": {
   "name": "python"
  }
 },
 "nbformat": 4,
 "nbformat_minor": 2
}
